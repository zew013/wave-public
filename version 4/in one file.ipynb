{
 "cells": [
  {
   "cell_type": "code",
   "execution_count": null,
   "id": "a4e101b2",
   "metadata": {},
   "outputs": [],
   "source": [
    "%load_ext autoreload\n",
    "%autoreload 2\n",
    "from WaveExtract import WaveExtract as we\n",
    "from SpeedMeasure import SpeedMeasure as sm\n",
    "import matplotlib.pyplot as plt\n",
    "import numpy as np"
   ]
  },
  {
   "cell_type": "code",
   "execution_count": null,
   "id": "4f53145b",
   "metadata": {
    "scrolled": true
   },
   "outputs": [],
   "source": [
    "# wave extract\n",
    "# 'CHANGE IT TO YOUR RAW BLURRED VIDEO PATH.tif'\n",
    "extract = we(\n",
    "    'stitched and resized videos/Capture 3 - Position 1_XY1693964891_Z0_T0000_C0/Capture 3 - Position 1_XY1693964891_Z0_T0000_C0_blur40.tif',\n",
    "    (0,2300))"
   ]
  },
  {
   "cell_type": "code",
   "execution_count": null,
   "id": "9d7c26fd",
   "metadata": {},
   "outputs": [],
   "source": [
    "# wave extract\n",
    "# 'OUTPUT PATH FOR CONVOLVED MATRIX.npy'\n",
    "extract.gen_convolve(output_path = 'wave_convolution_blur40.npy')"
   ]
  },
  {
   "cell_type": "code",
   "execution_count": null,
   "id": "02846b81",
   "metadata": {},
   "outputs": [],
   "source": [
    "# wave extract\n",
    "# 'INPUT PATH FOR CONVOLVED MATRIX.npy', specify if necessary.If not specify, THEN IT WILL USE WHAT SAVED FROM PREVIOUS STEP \"gen_convolve\"\n",
    "# 'OUT PUT PATH FOR LABELED WAVE'\n",
    "\n",
    "# extract.gen_mask(input_path='wave_convolution_blur40.npy', \n",
    "#                                   output_path='convolve_kernel56_circle_blur40_sigma6.tif',\n",
    "#                                  sigma=6)\n",
    "\n",
    "# OR\n",
    "extract.gen_mask(output_path='convolve_kernel56_circle_blur40_sigma6.tif', sigma=6)"
   ]
  },
  {
   "cell_type": "code",
   "execution_count": null,
   "id": "a37053d5",
   "metadata": {},
   "outputs": [],
   "source": [
    "# After extracting the wave, check the labeled video in ImageJ"
   ]
  },
  {
   "cell_type": "code",
   "execution_count": null,
   "id": "4f23dcfd",
   "metadata": {},
   "outputs": [],
   "source": [
    "# speed measure\n",
    "# 'INPUT PATH FOR LABELED VIDEO'\n",
    "# RANGE WHERE WAVE OCCUR\n",
    "\n",
    "measure = sm(tiff_file='stitched and resized videos/Capture 3 - Position 1_XY1693964891_Z0_T0000_C0/convolve_kernel56_circle_blur40_sigma6.tif', \n",
    "                                 image_range=(610, 2200), \n",
    "                                 dt=15)\n",
    "\n"
   ]
  },
  {
   "cell_type": "code",
   "execution_count": null,
   "id": "3c4b3a2d",
   "metadata": {
    "scrolled": true
   },
   "outputs": [],
   "source": [
    "# speed measure\n",
    "# epss: THE DISTANCE BETWEEN WAVES IF WHEN TWO WAVES OCCUR IN ONE FRAME\n",
    "# First 0 means the initial eps is 400. After frame 1400, the distance between waves is closer so choose a smaller number 200\n",
    "# Change the cache name based on the eps use. My naming convention is \n",
    "# START_FRAME_NUM - FRAME_WHERE_EPS_CHANGE - END_FRAME_NUMepsSTART_EPS - END_EPS. choose whatever you like\n",
    "# '500-1600' was because my previous block uses image range 500, 1600\n",
    "# measure.gen_activation_map(epss=[(0, 400), (1400,200)], cache='500-1400-1600eps400-200.pkl')\n",
    "measure.gen_activation_map(epss=[(0, 300), (1900,40)], cache='610-1900-2200eps300-40.pkl')\n",
    "\n"
   ]
  },
  {
   "cell_type": "code",
   "execution_count": null,
   "id": "a66381a1",
   "metadata": {},
   "outputs": [],
   "source": [
    "# speed measure\n",
    "measure.gen_speed()"
   ]
  },
  {
   "cell_type": "code",
   "execution_count": null,
   "id": "8d866b5f",
   "metadata": {},
   "outputs": [],
   "source": [
    "# name for the plot for Sanchi\n",
    "measure.plot(name='newplot.png')"
   ]
  },
  {
   "cell_type": "code",
   "execution_count": null,
   "id": "b176f00b",
   "metadata": {},
   "outputs": [],
   "source": [
    "# export to csv\n",
    "measure.export_result('table.csv')"
   ]
  },
  {
   "cell_type": "code",
   "execution_count": null,
   "id": "a33db4aa",
   "metadata": {},
   "outputs": [],
   "source": []
  },
  {
   "cell_type": "code",
   "execution_count": null,
   "id": "c86ab85e",
   "metadata": {
    "scrolled": true
   },
   "outputs": [],
   "source": [
    "# A testing used to check the activation maps. Whether it's good or not.\n",
    "# A way to evaluate the result.\n",
    "# activation maps that aren't complete are automatically filtered and ignored\n",
    "import matplotlib.pyplot as plt\n",
    "import numpy as np\n",
    "for i in measure.map_info:\n",
    "    print(f\"start frame: {np.nanmin(i)+measure.start}\", \n",
    "          f\"end frame: {np.nanmax(i)+measure.start}\")\n",
    "    acti = plt.matshow(i)\n",
    "    plt.colorbar(acti)\n",
    "    plt.show()"
   ]
  },
  {
   "cell_type": "code",
   "execution_count": null,
   "id": "a11c5e81",
   "metadata": {},
   "outputs": [],
   "source": []
  }
 ],
 "metadata": {
  "kernelspec": {
   "display_name": "Python 3 (ipykernel)",
   "language": "python",
   "name": "python3"
  },
  "language_info": {
   "codemirror_mode": {
    "name": "ipython",
    "version": 3
   },
   "file_extension": ".py",
   "mimetype": "text/x-python",
   "name": "python",
   "nbconvert_exporter": "python",
   "pygments_lexer": "ipython3",
   "version": "3.10.9"
  }
 },
 "nbformat": 4,
 "nbformat_minor": 5
}
